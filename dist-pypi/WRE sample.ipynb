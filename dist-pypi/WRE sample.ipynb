{
 "cells": [
  {
   "cell_type": "code",
   "execution_count": 1,
   "id": "96b9584d-3688-4fd5-9049-0a1f26f4f3e8",
   "metadata": {},
   "outputs": [],
   "source": [
    "import blingfire"
   ]
  },
  {
   "cell_type": "code",
   "execution_count": 4,
   "id": "2069ccd5-419a-4f6a-be04-83a748b2925c",
   "metadata": {},
   "outputs": [],
   "source": [
    "from ctypes import *\n",
    "import numpy as np"
   ]
  },
  {
   "cell_type": "code",
   "execution_count": 5,
   "id": "733757eb-7b6d-4056-826d-ea66234864e8",
   "metadata": {},
   "outputs": [],
   "source": [
    "def wre(mweModel, wreModel, text, startOffsets, endOffsets, tags, maxOutputCount=None):\n",
    "    if len(startOffsets) != len(endOffsets) or len(startOffsets) != len(tags):\n",
    "        raise Exception(\"Invalid input\")\n",
    "\n",
    "    if maxOutputCount is None:\n",
    "        # Default max output count to number of input words.\n",
    "        maxOutputCount = len(tags)\n",
    "\n",
    "    o_tags = (c_int32 * maxOutputCount)()\n",
    "    o_froms = (c_int32 * maxOutputCount)()\n",
    "    o_tos = (c_int32 * maxOutputCount)()\n",
    "\n",
    "    text_bytes = text.encode(\"utf-8\")\n",
    "\n",
    "    outputCount = blingfire.blingfire.ParseWre(\n",
    "        c_char_p(text_bytes),\n",
    "        c_int(len(text_bytes)),\n",
    "        c_void_p(startOffsets.__array_interface__['data'][0]),\n",
    "        c_void_p(endOffsets.__array_interface__['data'][0]),\n",
    "        c_void_p(tags.__array_interface__['data'][0]),\n",
    "        c_int(len(tags)),\n",
    "        byref(o_froms),\n",
    "        byref(o_tos),\n",
    "        byref(o_tags),\n",
    "        c_int(maxOutputCount),\n",
    "        c_void_p(mweModel),\n",
    "        c_void_p(wreModel)\n",
    "    )\n",
    "\n",
    "    def intbuffer(buf):\n",
    "        return np.frombuffer(\n",
    "            buf, dtype=c_int32, count=min(outputCount, maxOutputCount)\n",
    "        )\n",
    "\n",
    "    return (\n",
    "        intbuffer(o_froms),\n",
    "        intbuffer(o_tos),\n",
    "        intbuffer(o_tags),\n",
    "        outputCount\n",
    "    )\n",
    "        \n",
    "        "
   ]
  }
 ],
 "metadata": {
  "kernelspec": {
   "display_name": "Python 3 (ipykernel)",
   "language": "python",
   "name": "python3"
  },
  "language_info": {
   "codemirror_mode": {
    "name": "ipython",
    "version": 3
   },
   "file_extension": ".py",
   "mimetype": "text/x-python",
   "name": "python",
   "nbconvert_exporter": "python",
   "pygments_lexer": "ipython3",
   "version": "3.11.4"
  }
 },
 "nbformat": 4,
 "nbformat_minor": 5
}
